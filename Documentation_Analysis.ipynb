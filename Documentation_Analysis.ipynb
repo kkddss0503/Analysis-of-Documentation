{
  "nbformat": 4,
  "nbformat_minor": 0,
  "metadata": {
    "colab": {
      "provenance": [],
      "authorship_tag": "ABX9TyOvPZsg9auBueGMVRakYfQR",
      "include_colab_link": true
    },
    "kernelspec": {
      "name": "python3",
      "display_name": "Python 3"
    },
    "language_info": {
      "name": "python"
    }
  },
  "cells": [
    {
      "cell_type": "markdown",
      "metadata": {
        "id": "view-in-github",
        "colab_type": "text"
      },
      "source": [
        "<a href=\"https://colab.research.google.com/github/kkddss0503/Analysis-of-Documentation/blob/main/Documentation_Analysis.ipynb\" target=\"_parent\"><img src=\"https://colab.research.google.com/assets/colab-badge.svg\" alt=\"Open In Colab\"/></a>"
      ]
    },
    {
      "cell_type": "markdown",
      "source": [
        "# Task #09 作業#01 【實作題】新聞語料關鍵字分析"
      ],
      "metadata": {
        "id": "tbuh3tmE5tfO"
      }
    },
    {
      "cell_type": "markdown",
      "source": [
        "請建立一個 Github Repo 與 Colab 綁定（名稱自訂），並且根據以下範例完成資料收集後 Commit 成第一個版本。第一個步驟請利用 聯合新聞網 作為主要的文本來源，將範例收集回來的新聞內文存在一個 List 容器變數 `news` 內。"
      ],
      "metadata": {
        "id": "hLyLVlkY6s1b"
      }
    },
    {
      "cell_type": "code",
      "execution_count": 1,
      "metadata": {
        "id": "gov_4u3U5kUy"
      },
      "outputs": [],
      "source": [
        "import requests\n",
        "from bs4 import BeautifulSoup\n",
        "\n",
        "# 利用 requests 對 API 來源發送一個請求\n",
        "response = requests.get('https://udn.com/news/breaknews/1')\n",
        "soup = BeautifulSoup(response.text)\n",
        "news = []\n",
        "for link in soup.find_all('h3', class_='rounded-thumb__title')[:4]:\n",
        "  news_url = link.a['href']\n",
        "  news_response = requests.get('https://udn.com' + news_url)\n",
        "  news_soup = BeautifulSoup(news_response.text)\n",
        "  news_content = news_soup.find('div', class_='article-content__paragraph').text.strip().replace('\\n', ' ').replace('\\r',' ')\n",
        "  #print(\"content: \",news_content)\n",
        "  news.append(news_content)"
      ]
    }
  ]
}